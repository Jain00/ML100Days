{
 "cells": [
  {
   "cell_type": "markdown",
   "metadata": {
    "colab_type": "text",
    "id": "P6xk2_jLsvFF"
   },
   "source": [
    "# [作業目標]\n",
    "\n",
    "1. 請比較對一個 100 x 100 * 100 的陣列，使用不同方法對每一個元素 +1 的時間比較。\n",
    "\n",
    "2. 如何從一個陣列中，找出出現頻率最高的數值與位置？\n",
    "\n",
    "3. 如何利用 list(...) 實現 a.tolist() 的效果？試著用程式實作。\n"
   ]
  },
  {
   "cell_type": "markdown",
   "metadata": {
    "colab_type": "text",
    "id": "uXGll28asvFS"
   },
   "source": [
    "# 作業 "
   ]
  },
  {
   "cell_type": "markdown",
   "metadata": {},
   "source": [
    "### 1. 請比較對一個 1000 x 100 x 100 的陣列，使用不同方法對每一個元素 +1 的時間比較。\n",
    "\n",
    "\n"
   ]
  },
  {
   "cell_type": "code",
   "execution_count": 15,
   "metadata": {},
   "outputs": [],
   "source": [
    "# 記得先 Import 正確的套件\n",
    "import numpy as np"
   ]
  },
  {
   "cell_type": "code",
   "execution_count": 16,
   "metadata": {
    "colab": {},
    "colab_type": "code",
    "id": "5QrYoyNWsvFS"
   },
   "outputs": [
    {
     "name": "stdout",
     "output_type": "stream",
     "text": [
      "[[[0 5 1 ... 5 8 5]\n",
      "  [2 9 3 ... 4 3 0]\n",
      "  [6 8 6 ... 2 5 3]\n",
      "  ...\n",
      "  [2 8 9 ... 5 9 7]\n",
      "  [6 9 3 ... 5 3 5]\n",
      "  [6 4 0 ... 5 9 4]]\n",
      "\n",
      " [[0 5 7 ... 1 2 4]\n",
      "  [5 8 0 ... 7 5 2]\n",
      "  [9 9 5 ... 5 9 5]\n",
      "  ...\n",
      "  [5 4 3 ... 0 8 6]\n",
      "  [9 2 2 ... 9 6 7]\n",
      "  [9 1 4 ... 4 7 3]]\n",
      "\n",
      " [[7 8 1 ... 2 2 5]\n",
      "  [2 6 0 ... 5 3 9]\n",
      "  [1 2 2 ... 1 1 7]\n",
      "  ...\n",
      "  [3 6 7 ... 4 5 1]\n",
      "  [4 7 9 ... 0 2 7]\n",
      "  [7 8 7 ... 5 8 2]]\n",
      "\n",
      " ...\n",
      "\n",
      " [[2 6 7 ... 6 8 0]\n",
      "  [1 7 2 ... 7 2 5]\n",
      "  [4 8 2 ... 2 8 1]\n",
      "  ...\n",
      "  [7 6 8 ... 7 3 5]\n",
      "  [3 1 5 ... 1 6 5]\n",
      "  [9 7 1 ... 0 5 2]]\n",
      "\n",
      " [[2 4 1 ... 1 1 1]\n",
      "  [9 3 3 ... 5 6 0]\n",
      "  [8 6 0 ... 2 1 1]\n",
      "  ...\n",
      "  [0 9 8 ... 0 0 0]\n",
      "  [8 7 4 ... 5 0 5]\n",
      "  [8 2 1 ... 2 1 7]]\n",
      "\n",
      " [[4 4 0 ... 7 8 6]\n",
      "  [8 1 6 ... 4 8 1]\n",
      "  [8 7 2 ... 0 0 2]\n",
      "  ...\n",
      "  [7 7 8 ... 8 7 7]\n",
      "  [2 2 7 ... 2 4 8]\n",
      "  [2 4 3 ... 0 2 3]]]\n"
     ]
    }
   ],
   "source": [
    "Z = np.random.randint(0, 10, 1000000).reshape(100, 100, 100)\n",
    "print(Z)"
   ]
  },
  {
   "cell_type": "code",
   "execution_count": 17,
   "metadata": {},
   "outputs": [
    {
     "name": "stdout",
     "output_type": "stream",
     "text": [
      "24.3 ns ± 7.28 ns per loop (mean ± std. dev. of 7 runs, 10 loops each)\n"
     ]
    }
   ],
   "source": [
    "%timeit -n 10 a = 2\n",
    "\n",
    "for data in Z:\n",
    "    for row in data:\n",
    "        for a in row:\n",
    "            a+=1\n",
    "#迴圈一層一層運算每一個元素 速度最慢"
   ]
  },
  {
   "cell_type": "code",
   "execution_count": 18,
   "metadata": {},
   "outputs": [
    {
     "name": "stdout",
     "output_type": "stream",
     "text": [
      "24.3 ns ± 7.28 ns per loop (mean ± std. dev. of 7 runs, 10 loops each)\n"
     ]
    }
   ],
   "source": [
    "%timeit -n 10 a = 2\n",
    "\n",
    "for i in Z.flat:\n",
    "    i+=1\n",
    "#攤平才可迭代每一個元素"
   ]
  },
  {
   "cell_type": "code",
   "execution_count": 19,
   "metadata": {},
   "outputs": [
    {
     "name": "stdout",
     "output_type": "stream",
     "text": [
      "24.3 ns ± 9.04 ns per loop (mean ± std. dev. of 7 runs, 10 loops each)\n"
     ]
    }
   ],
   "source": [
    "%timeit -n 10 a = 2\n",
    "\n",
    "Z += 1\n",
    "#陣列廣播性質運算速度最快"
   ]
  },
  {
   "cell_type": "markdown",
   "metadata": {},
   "source": [
    "### 2. 如何從一個陣列中，找出出現頻率最高的數值與位置？\n"
   ]
  },
  {
   "cell_type": "code",
   "execution_count": 5,
   "metadata": {
    "colab": {},
    "colab_type": "code",
    "id": "e1gVI0tvsvFY"
   },
   "outputs": [
    {
     "name": "stdout",
     "output_type": "stream",
     "text": [
      "[8 2 0 7 1 8 1 6 3 8 8 8 8 4 5 7 5 6 8 4 0 4 8 9 0 3 1 4 6 9 9 4 4 6 6 2 4\n",
      " 6 8 8 3 8 2 3 5 5 1 8 3 8]\n"
     ]
    }
   ],
   "source": [
    "\n",
    "Z = np.random.randint(0,10,50)\n",
    "print(Z)\n"
   ]
  },
  {
   "cell_type": "code",
   "execution_count": 22,
   "metadata": {},
   "outputs": [
    {
     "name": "stdout",
     "output_type": "stream",
     "text": [
      "[1 1 0 5 5 1 3 1 6 7 2 6 2 2 7 0 4 6 7 7 7 1 9 3 1 0 0 8 1 1 9 0 5 4 2 5 6\n",
      " 4 8 8 6 8 1 7 5 5 8 1 7 9]\n",
      "頻率最高數值: 1\n"
     ]
    }
   ],
   "source": [
    "from scipy import stats\n",
    "\n",
    "Z = np.random.randint(0,10,50)\n",
    "print(Z)\n",
    "mode = stats.mode(Z)[0][0]\n",
    "print('頻率最高數值:', mode)"
   ]
  },
  {
   "cell_type": "code",
   "execution_count": 23,
   "metadata": {},
   "outputs": [
    {
     "name": "stdout",
     "output_type": "stream",
     "text": [
      "頻率最高數值之位置: 27\n"
     ]
    }
   ],
   "source": [
    "print('頻率最高數值之位置:', np.searchsorted(Z, mode))"
   ]
  },
  {
   "cell_type": "markdown",
   "metadata": {},
   "source": [
    "### 3. 如何利用 list(...) 實現 a.tolist() 的效果？試著用程式實作。\n"
   ]
  },
  {
   "cell_type": "code",
   "execution_count": 24,
   "metadata": {},
   "outputs": [
    {
     "name": "stdout",
     "output_type": "stream",
     "text": [
      "[3, 6, 2, 7, 5, 1]\n",
      "[3, 6, 2, 7, 5, 1]\n",
      "[[1, 2, 5, 9], [0, 8, 9, 9], [4, 2, 3, 2]]\n",
      "[array([1, 2, 5, 9]), array([0, 8, 9, 9]), array([4, 2, 3, 2])]\n",
      "[[[6, 2], [9, 4], [4, 2]], [[1, 8], [2, 6], [6, 5]]]\n",
      "[array([[6, 2],\n",
      "       [9, 4],\n",
      "       [4, 2]]), array([[1, 8],\n",
      "       [2, 6],\n",
      "       [6, 5]])]\n"
     ]
    }
   ],
   "source": [
    "a = np.random.randint(10, size=6) \n",
    "\n",
    "print(a.tolist())\n",
    "print(list(a))\n",
    "\n",
    "\n",
    "b = np.random.randint(10, size=(3,4)) \n",
    "\n",
    "print(b.tolist())\n",
    "print(list(b))\n",
    "\n",
    "\n",
    "c = np.random.randint(10, size=(2,3,2)) \n",
    "\n",
    "print(c.tolist())\n",
    "print(list(c))\n"
   ]
  },
  {
   "cell_type": "code",
   "execution_count": null,
   "metadata": {},
   "outputs": [],
   "source": [
    "'''\n",
    "Your Code\n",
    "'''"
   ]
  }
 ],
 "metadata": {
  "colab": {
   "name": "Day_023_HW.ipynb",
   "provenance": []
  },
  "kernelspec": {
   "display_name": "Python 3 (ipykernel)",
   "language": "python",
   "name": "python3"
  },
  "language_info": {
   "codemirror_mode": {
    "name": "ipython",
    "version": 3
   },
   "file_extension": ".py",
   "mimetype": "text/x-python",
   "name": "python",
   "nbconvert_exporter": "python",
   "pygments_lexer": "ipython3",
   "version": "3.9.7"
  }
 },
 "nbformat": 4,
 "nbformat_minor": 1
}
