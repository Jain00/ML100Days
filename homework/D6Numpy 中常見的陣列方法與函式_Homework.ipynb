{
 "cells": [
  {
   "cell_type": "markdown",
   "metadata": {
    "id": "P6xk2_jLsvFF"
   },
   "source": [
    "# [作業目標]\n",
    "\n",
    "1. [簡答題] 請問下列這三種方法有什麼不同？\n",
    "\n",
    "```\n",
    "print(a.sum()) \n",
    "print(np.sum(a))\n",
    "print(sum(a)) \n",
    "```\n",
    "\n",
    "2. 請對一個 5x5 的隨機矩陣作正規化的操作。\n",
    "\n",
    "3. 請建立一個長度等於 10 的正整數向量，並且將其中的最大值改成 -1。\n"
   ]
  },
  {
   "cell_type": "markdown",
   "metadata": {
    "id": "uXGll28asvFS"
   },
   "source": [
    "# 作業 "
   ]
  },
  {
   "cell_type": "markdown",
   "metadata": {
    "id": "lbz8VjL6jxyL"
   },
   "source": [
    "### 1. [簡答題] 請問下列這三種方法有什麼不同？\n",
    "\n",
    "```\n",
    "print(a.sum()) \n",
    "print(np.sum(a))\n",
    "print(sum(a)) \n",
    "```\n",
    "\n"
   ]
  },
  {
   "cell_type": "code",
   "execution_count": 3,
   "metadata": {
    "id": "5QrYoyNWsvFS",
    "outputId": "e9e14d36-38ce-4ce5-edf2-3c7b129db580"
   },
   "outputs": [
    {
     "name": "stdout",
     "output_type": "stream",
     "text": [
      "15\n",
      "15\n",
      "15\n"
     ]
    }
   ],
   "source": [
    "import numpy as np\n",
    "\n",
    "a = np.arange(6)\n",
    "\n",
    "print(a.sum()) #是陣列專有的函式\n",
    "print(np.sum(a)) #是陣列專有的函式\n",
    "print(sum(a)) #是python內建的函式，所有型態皆可以使用\n",
    "#差別在於定義在np或是python底下"
   ]
  },
  {
   "cell_type": "markdown",
   "metadata": {
    "id": "vVrjBXabjxyS"
   },
   "source": [
    "### 2. 請對一個 5x5 的隨機矩陣作正規化的操作。\n"
   ]
  },
  {
   "cell_type": "code",
   "execution_count": 4,
   "metadata": {
    "id": "ffDRVHs9jxyS"
   },
   "outputs": [],
   "source": [
    "# 記得先 Import 正確的套件\n",
    "import numpy as np"
   ]
  },
  {
   "cell_type": "code",
   "execution_count": 7,
   "metadata": {
    "id": "e1gVI0tvsvFY",
    "outputId": "43bf676f-fd04-4edf-c062-b5fe7fe1f4bf"
   },
   "outputs": [
    {
     "name": "stdout",
     "output_type": "stream",
     "text": [
      "[[0.15833381 0.11495846 0.74356356 0.94839048 0.40600702]\n",
      " [0.71445359 0.90174477 0.31941311 0.35913545 0.16169363]\n",
      " [0.35345859 0.16757521 0.38265767 0.05081245 0.29848194]\n",
      " [0.97807289 0.79930874 0.92423826 0.63660978 0.13140888]\n",
      " [0.36214876 0.50470454 0.11629331 0.24809813 0.1891274 ]]\n",
      "0.9780728914755868\n",
      "0.050812448049289416\n",
      "[[0.11595595 0.06917799 0.74709443 0.96798913 0.38305804]\n",
      " [0.71570091 0.91768427 0.28967122 0.3325096  0.11957933]\n",
      " [0.32638742 0.12592229 0.35787704 0.         0.26709809]\n",
      " [1.         0.80721258 0.94194228 0.63175059 0.08691887]\n",
      " [0.3357593  0.48949795 0.07061755 0.21276189 0.14916516]]\n"
     ]
    }
   ],
   "source": [
    "A = np.random.random((5, 5))\n",
    "\n",
    "print(A)\n",
    "print(np.max(A)) #找最大值\n",
    "print(np.min(A)) #找最小值\n",
    "B=(A-np.min(A))/(np.max(A)-np.min(A))#正規化\n",
    "print(B)"
   ]
  },
  {
   "cell_type": "markdown",
   "metadata": {
    "id": "Ptc3ZrNQjxyU"
   },
   "source": [
    "### 3. 請建立一個長度等於 10 的正整數向量，並且將其中的最大值改成 -1。\n"
   ]
  },
  {
   "cell_type": "code",
   "execution_count": 9,
   "metadata": {
    "id": "Yu1kbLxojxyU",
    "outputId": "d323e754-178a-46ae-e15e-98275ae220dd"
   },
   "outputs": [
    {
     "name": "stdout",
     "output_type": "stream",
     "text": [
      "[0.84264841 0.12379812 0.54947497 0.95251858 0.08395043 0.49908287\n",
      " 0.9855031  0.46673727 0.99902599 0.56799628]\n",
      "0.999025988935489\n",
      "8\n",
      "[ 0.84264841  0.12379812  0.54947497  0.95251858  0.08395043  0.49908287\n",
      "  0.9855031   0.46673727 -1.          0.56799628]\n"
     ]
    }
   ],
   "source": [
    "A = np.random.random(10)\n",
    "A=np.random.random(10)\n",
    "print(A)\n",
    "A_MAX=np.max(A)\n",
    "print(A_MAX)\n",
    "print(np.argmax(A))\n",
    "A[np.argmax(A)]=-1\n",
    "print(A)"
   ]
  },
  {
   "cell_type": "code",
   "execution_count": null,
   "metadata": {
    "id": "IoPlZnZgjxyV"
   },
   "outputs": [],
   "source": []
  }
 ],
 "metadata": {
  "colab": {
   "name": "06 Homework_維元.ipynb",
   "provenance": []
  },
  "kernelspec": {
   "display_name": "Python 3 (ipykernel)",
   "language": "python",
   "name": "python3"
  },
  "language_info": {
   "codemirror_mode": {
    "name": "ipython",
    "version": 3
   },
   "file_extension": ".py",
   "mimetype": "text/x-python",
   "name": "python",
   "nbconvert_exporter": "python",
   "pygments_lexer": "ipython3",
   "version": "3.9.7"
  }
 },
 "nbformat": 4,
 "nbformat_minor": 1
}
